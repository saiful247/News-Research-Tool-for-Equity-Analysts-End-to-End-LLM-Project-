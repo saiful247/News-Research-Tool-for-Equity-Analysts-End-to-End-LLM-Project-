{
 "cells": [
  {
   "cell_type": "code",
   "execution_count": 1,
   "metadata": {},
   "outputs": [],
   "source": [
    "import pandas as pd\n",
    "import numpy as np"
   ]
  },
  {
   "cell_type": "code",
   "execution_count": 2,
   "metadata": {},
   "outputs": [],
   "source": [
    "df=pd.read_csv('sample.csv')"
   ]
  },
  {
   "cell_type": "code",
   "execution_count": 3,
   "metadata": {},
   "outputs": [
    {
     "data": {
      "text/html": [
       "<div>\n",
       "<style scoped>\n",
       "    .dataframe tbody tr th:only-of-type {\n",
       "        vertical-align: middle;\n",
       "    }\n",
       "\n",
       "    .dataframe tbody tr th {\n",
       "        vertical-align: top;\n",
       "    }\n",
       "\n",
       "    .dataframe thead th {\n",
       "        text-align: right;\n",
       "    }\n",
       "</style>\n",
       "<table border=\"1\" class=\"dataframe\">\n",
       "  <thead>\n",
       "    <tr style=\"text-align: right;\">\n",
       "      <th></th>\n",
       "      <th>text</th>\n",
       "      <th>category</th>\n",
       "    </tr>\n",
       "  </thead>\n",
       "  <tbody>\n",
       "    <tr>\n",
       "      <th>0</th>\n",
       "      <td>Meditation and yoga can improve mental health</td>\n",
       "      <td>Health</td>\n",
       "    </tr>\n",
       "    <tr>\n",
       "      <th>1</th>\n",
       "      <td>Fruits, whole grains and vegetables helps cont...</td>\n",
       "      <td>Health</td>\n",
       "    </tr>\n",
       "    <tr>\n",
       "      <th>2</th>\n",
       "      <td>These are the latest fashion trends for this week</td>\n",
       "      <td>Fashion</td>\n",
       "    </tr>\n",
       "    <tr>\n",
       "      <th>3</th>\n",
       "      <td>Vibrant color jeans for male are becoming a trend</td>\n",
       "      <td>Fashion</td>\n",
       "    </tr>\n",
       "    <tr>\n",
       "      <th>4</th>\n",
       "      <td>The concert starts at 7 PM tonight</td>\n",
       "      <td>Event</td>\n",
       "    </tr>\n",
       "    <tr>\n",
       "      <th>5</th>\n",
       "      <td>Navaratri dandiya program at Expo center in Mu...</td>\n",
       "      <td>Event</td>\n",
       "    </tr>\n",
       "    <tr>\n",
       "      <th>6</th>\n",
       "      <td>Exciting vacation destinations for your next trip</td>\n",
       "      <td>Travel</td>\n",
       "    </tr>\n",
       "    <tr>\n",
       "      <th>7</th>\n",
       "      <td>Maldives and Srilanka are gaining popularity i...</td>\n",
       "      <td>Travel</td>\n",
       "    </tr>\n",
       "  </tbody>\n",
       "</table>\n",
       "</div>"
      ],
      "text/plain": [
       "                                                text category\n",
       "0      Meditation and yoga can improve mental health   Health\n",
       "1  Fruits, whole grains and vegetables helps cont...   Health\n",
       "2  These are the latest fashion trends for this week  Fashion\n",
       "3  Vibrant color jeans for male are becoming a trend  Fashion\n",
       "4                 The concert starts at 7 PM tonight    Event\n",
       "5  Navaratri dandiya program at Expo center in Mu...    Event\n",
       "6  Exciting vacation destinations for your next trip   Travel\n",
       "7  Maldives and Srilanka are gaining popularity i...   Travel"
      ]
     },
     "execution_count": 3,
     "metadata": {},
     "output_type": "execute_result"
    }
   ],
   "source": [
    "df"
   ]
  },
  {
   "cell_type": "code",
   "execution_count": 4,
   "metadata": {},
   "outputs": [
    {
     "name": "stdout",
     "output_type": "stream",
     "text": [
      "WARNING:tensorflow:From c:\\Python312\\Lib\\site-packages\\tf_keras\\src\\losses.py:2976: The name tf.losses.sparse_softmax_cross_entropy is deprecated. Please use tf.compat.v1.losses.sparse_softmax_cross_entropy instead.\n",
      "\n"
     ]
    }
   ],
   "source": [
    "from sentence_transformers import SentenceTransformer"
   ]
  },
  {
   "cell_type": "code",
   "execution_count": 5,
   "metadata": {},
   "outputs": [
    {
     "data": {
      "application/vnd.jupyter.widget-view+json": {
       "model_id": "dee40130ca3a457ba81976825a6bd80d",
       "version_major": 2,
       "version_minor": 0
      },
      "text/plain": [
       "modules.json:   0%|          | 0.00/229 [00:00<?, ?B/s]"
      ]
     },
     "metadata": {},
     "output_type": "display_data"
    },
    {
     "name": "stderr",
     "output_type": "stream",
     "text": [
      "c:\\Python312\\Lib\\site-packages\\huggingface_hub\\file_download.py:140: UserWarning: `huggingface_hub` cache-system uses symlinks by default to efficiently store duplicated files but your machine does not support them in C:\\Users\\saifu\\.cache\\huggingface\\hub\\models--sentence-transformers--bert-base-nli-mean-tokens. Caching files will still work but in a degraded version that might require more space on your disk. This warning can be disabled by setting the `HF_HUB_DISABLE_SYMLINKS_WARNING` environment variable. For more details, see https://huggingface.co/docs/huggingface_hub/how-to-cache#limitations.\n",
      "To support symlinks on Windows, you either need to activate Developer Mode or to run Python as an administrator. In order to activate developer mode, see this article: https://docs.microsoft.com/en-us/windows/apps/get-started/enable-your-device-for-development\n",
      "  warnings.warn(message)\n"
     ]
    },
    {
     "data": {
      "application/vnd.jupyter.widget-view+json": {
       "model_id": "2a1ce0335f55452ebee277616928dbef",
       "version_major": 2,
       "version_minor": 0
      },
      "text/plain": [
       "config_sentence_transformers.json:   0%|          | 0.00/122 [00:00<?, ?B/s]"
      ]
     },
     "metadata": {},
     "output_type": "display_data"
    },
    {
     "data": {
      "application/vnd.jupyter.widget-view+json": {
       "model_id": "f26d40609111468ca55be91faeb89491",
       "version_major": 2,
       "version_minor": 0
      },
      "text/plain": [
       "README.md:   0%|          | 0.00/3.99k [00:00<?, ?B/s]"
      ]
     },
     "metadata": {},
     "output_type": "display_data"
    },
    {
     "data": {
      "application/vnd.jupyter.widget-view+json": {
       "model_id": "5dd33462cd814c81977c1bba23fc05be",
       "version_major": 2,
       "version_minor": 0
      },
      "text/plain": [
       "sentence_bert_config.json:   0%|          | 0.00/53.0 [00:00<?, ?B/s]"
      ]
     },
     "metadata": {},
     "output_type": "display_data"
    },
    {
     "data": {
      "application/vnd.jupyter.widget-view+json": {
       "model_id": "ceffad5fb8d54e12b87b720a74ee98d1",
       "version_major": 2,
       "version_minor": 0
      },
      "text/plain": [
       "config.json:   0%|          | 0.00/625 [00:00<?, ?B/s]"
      ]
     },
     "metadata": {},
     "output_type": "display_data"
    },
    {
     "data": {
      "application/vnd.jupyter.widget-view+json": {
       "model_id": "1dd34227ea884188af026f355eb85e4c",
       "version_major": 2,
       "version_minor": 0
      },
      "text/plain": [
       "model.safetensors:   0%|          | 0.00/438M [00:00<?, ?B/s]"
      ]
     },
     "metadata": {},
     "output_type": "display_data"
    },
    {
     "data": {
      "application/vnd.jupyter.widget-view+json": {
       "model_id": "0c1ec1a170a54867bc5cb4214df3a989",
       "version_major": 2,
       "version_minor": 0
      },
      "text/plain": [
       "tokenizer_config.json:   0%|          | 0.00/399 [00:00<?, ?B/s]"
      ]
     },
     "metadata": {},
     "output_type": "display_data"
    },
    {
     "data": {
      "application/vnd.jupyter.widget-view+json": {
       "model_id": "a9dfbef8bc284b92805e8c3eb0ae2359",
       "version_major": 2,
       "version_minor": 0
      },
      "text/plain": [
       "vocab.txt:   0%|          | 0.00/232k [00:00<?, ?B/s]"
      ]
     },
     "metadata": {},
     "output_type": "display_data"
    },
    {
     "data": {
      "application/vnd.jupyter.widget-view+json": {
       "model_id": "090252a4faf84e14920523dc2e968de9",
       "version_major": 2,
       "version_minor": 0
      },
      "text/plain": [
       "tokenizer.json:   0%|          | 0.00/466k [00:00<?, ?B/s]"
      ]
     },
     "metadata": {},
     "output_type": "display_data"
    },
    {
     "data": {
      "application/vnd.jupyter.widget-view+json": {
       "model_id": "0ec65016bfe9401d861c7a6129f7d48e",
       "version_major": 2,
       "version_minor": 0
      },
      "text/plain": [
       "added_tokens.json:   0%|          | 0.00/2.00 [00:00<?, ?B/s]"
      ]
     },
     "metadata": {},
     "output_type": "display_data"
    },
    {
     "data": {
      "application/vnd.jupyter.widget-view+json": {
       "model_id": "0501ea82d7d04c7fbbb1d369d4f0e25d",
       "version_major": 2,
       "version_minor": 0
      },
      "text/plain": [
       "special_tokens_map.json:   0%|          | 0.00/112 [00:00<?, ?B/s]"
      ]
     },
     "metadata": {},
     "output_type": "display_data"
    },
    {
     "data": {
      "application/vnd.jupyter.widget-view+json": {
       "model_id": "09828bf2b1cd49b3bd219b76f4590c0a",
       "version_major": 2,
       "version_minor": 0
      },
      "text/plain": [
       "1_Pooling/config.json:   0%|          | 0.00/190 [00:00<?, ?B/s]"
      ]
     },
     "metadata": {},
     "output_type": "display_data"
    },
    {
     "data": {
      "text/plain": [
       "(8, 768)"
      ]
     },
     "execution_count": 5,
     "metadata": {},
     "output_type": "execute_result"
    }
   ],
   "source": [
    "encorder = SentenceTransformer('bert-base-nli-mean-tokens')\n",
    "vector=encorder.encode(df.text)\n",
    "vector.shape"
   ]
  },
  {
   "cell_type": "code",
   "execution_count": 6,
   "metadata": {},
   "outputs": [
    {
     "data": {
      "text/plain": [
       "array([[ 0.04833933,  0.29556116,  0.79127073, ...,  0.07494575,\n",
       "        -0.93341804, -0.8458563 ],\n",
       "       [-0.52396894, -0.10749719, -0.11692888, ...,  0.03128514,\n",
       "        -0.66294795, -0.29896387],\n",
       "       [-0.30924866, -0.44102192,  2.1799479 , ..., -1.318974  ,\n",
       "         0.09969992, -0.32386187],\n",
       "       ...,\n",
       "       [-0.13673231, -0.32200357,  1.3394136 , ..., -0.26709273,\n",
       "         0.3961509 , -0.00685968],\n",
       "       [ 0.1388734 , -0.71958727,  2.7110808 , ..., -0.609554  ,\n",
       "        -0.6455009 , -0.659427  ],\n",
       "       [-0.24585438, -0.15886363,  0.53315   , ...,  0.33926275,\n",
       "         0.2948122 , -0.45117202]], dtype=float32)"
      ]
     },
     "execution_count": 6,
     "metadata": {},
     "output_type": "execute_result"
    }
   ],
   "source": [
    "vector"
   ]
  },
  {
   "cell_type": "code",
   "execution_count": 7,
   "metadata": {},
   "outputs": [],
   "source": [
    "import faiss"
   ]
  },
  {
   "cell_type": "code",
   "execution_count": 8,
   "metadata": {},
   "outputs": [
    {
     "data": {
      "text/plain": [
       "768"
      ]
     },
     "execution_count": 8,
     "metadata": {},
     "output_type": "execute_result"
    }
   ],
   "source": [
    "dim = vector.shape[1]\n",
    "dim"
   ]
  },
  {
   "cell_type": "code",
   "execution_count": 9,
   "metadata": {},
   "outputs": [
    {
     "data": {
      "text/plain": [
       "<faiss.swigfaiss_avx2.IndexFlatL2; proxy of <Swig Object of type 'faiss::IndexFlatL2 *' at 0x000001C617169830> >"
      ]
     },
     "execution_count": 9,
     "metadata": {},
     "output_type": "execute_result"
    }
   ],
   "source": [
    "index = faiss.IndexFlatL2(dim) #it create l2 distance index to faster search\n",
    "index"
   ]
  },
  {
   "cell_type": "code",
   "execution_count": 10,
   "metadata": {},
   "outputs": [],
   "source": [
    "#above is a empty index. then add vectors \n",
    "index.add(vector)"
   ]
  },
  {
   "cell_type": "code",
   "execution_count": 17,
   "metadata": {},
   "outputs": [
    {
     "data": {
      "text/plain": [
       "(768,)"
      ]
     },
     "execution_count": 17,
     "metadata": {},
     "output_type": "execute_result"
    }
   ],
   "source": [
    "search_query = 'I want to buy a polo t-shirt'\n",
    "\n",
    "vec=encorder.encode(search_query)\n",
    "vec.shape"
   ]
  },
  {
   "cell_type": "code",
   "execution_count": 18,
   "metadata": {},
   "outputs": [
    {
     "data": {
      "text/plain": [
       "(1, 768)"
      ]
     },
     "execution_count": 18,
     "metadata": {},
     "output_type": "execute_result"
    }
   ],
   "source": [
    "#above is a 1 dimensional array. but faiss need 2 dimensional array\n",
    "#so covert this vec to  2 dimensional array\n",
    "import numpy as np\n",
    "\n",
    "svec=np.array(vec).reshape(1,-1)\n",
    "svec.shape"
   ]
  },
  {
   "cell_type": "code",
   "execution_count": 19,
   "metadata": {},
   "outputs": [
    {
     "data": {
      "text/plain": [
       "array([[ 0.88021094, -1.101029  ,  0.55957836,  0.30793497,  0.8335651 ,\n",
       "        -0.54538035, -0.45192918,  0.16884471,  1.1219397 , -0.74239117,\n",
       "        -0.58252454,  1.0003726 , -0.576151  ,  0.88928103,  0.375093  ,\n",
       "         0.53106695, -0.06653848,  0.6261907 , -0.01071582,  0.32650086,\n",
       "        -0.50601333,  0.2828875 ,  0.22365794,  1.0091164 ,  1.22609   ,\n",
       "        -0.5043221 ,  0.2624034 ,  0.3365692 , -0.09629243,  0.5131474 ,\n",
       "         0.5644836 , -0.43442866,  0.21200873, -0.23816301, -0.19327264,\n",
       "         0.406573  , -0.5441899 , -0.3591799 ,  0.12578012, -1.1164244 ,\n",
       "        -0.00835758, -0.2329154 , -0.16827969,  0.05013546, -1.0635887 ,\n",
       "        -0.9341193 , -0.19780225,  0.47088137, -0.7640505 , -1.6057136 ,\n",
       "         0.2685868 , -0.51491314, -0.20480342,  0.0996337 , -0.48771417,\n",
       "         1.2057369 , -0.5122699 , -0.7747336 , -0.59529483, -0.97559285,\n",
       "        -0.6177825 ,  0.14407198,  0.59366316,  0.72085756, -0.07431664,\n",
       "        -0.0253175 , -0.41270322, -0.6498542 , -0.73454374, -0.7370171 ,\n",
       "         0.06239724, -0.09297666, -0.8642908 , -0.6744067 ,  0.03453979,\n",
       "         0.42524654,  0.48474547,  0.43100032,  1.109977  ,  1.0104947 ,\n",
       "        -0.04923774, -0.34293464,  0.9175104 ,  1.4135687 ,  0.0779002 ,\n",
       "         1.0719162 , -0.17923853,  0.53472424,  0.25906307,  0.5098727 ,\n",
       "         0.20381045, -0.47809926,  0.5979238 , -0.50140977,  0.2968922 ,\n",
       "        -0.30285105, -0.5932694 , -0.64287317, -0.33885798, -0.60320115,\n",
       "        -0.50846547, -0.36690578, -1.1882137 ,  0.26864517, -0.21588854,\n",
       "         0.1374647 , -0.5016657 , -0.10637265,  0.6358216 , -0.5307764 ,\n",
       "         0.75629944, -0.36173373,  1.4913958 ,  0.2448635 ,  0.1830247 ,\n",
       "         0.31265333, -0.65668195,  0.55936056, -0.2841988 ,  0.83583677,\n",
       "        -0.45979747,  0.11169758, -0.12016761, -0.4387803 ,  1.4281116 ,\n",
       "         0.1156111 ,  0.67633724,  0.36456   , -1.689932  , -0.52124864,\n",
       "         0.5776585 ,  0.67575526,  0.37989682, -0.8767173 , -0.7225906 ,\n",
       "         0.41498387,  0.40426466, -0.22614893,  0.2352674 , -0.9962416 ,\n",
       "        -1.1801862 ,  0.33924294,  0.01183309, -0.84885985, -0.01603797,\n",
       "        -0.62706894,  0.30048946,  0.92360026, -0.37411204, -0.504236  ,\n",
       "        -0.26603493, -0.31180373, -0.14878556,  0.11107633, -0.5962722 ,\n",
       "        -0.21426564, -0.10430839,  0.12934332,  0.06334464, -0.28982475,\n",
       "        -0.03335176,  0.0507616 ,  1.0911988 ,  0.729184  ,  0.06071628,\n",
       "        -0.38926125, -0.10100719,  1.0478231 ,  0.34027746,  0.17456342,\n",
       "         1.8746829 , -0.33702642,  1.0499327 ,  0.11015961,  1.6206914 ,\n",
       "        -0.14346153,  0.35531652,  1.7831496 ,  0.29132205, -0.9870067 ,\n",
       "         0.24685569,  1.3028048 ,  0.8544929 , -0.740274  , -0.81657374,\n",
       "         0.17673053,  0.2848295 ,  0.13373207,  0.27435735, -0.13154325,\n",
       "         0.6645115 , -0.6971518 , -1.1236198 , -0.26806316, -0.24369803,\n",
       "        -0.12160302, -0.640823  ,  0.3850702 , -0.37129632, -0.20968841,\n",
       "         0.37835026,  0.40013218,  1.1208304 , -0.34147212, -0.36722878,\n",
       "         0.8705643 , -0.6384321 ,  0.85727465, -0.5465199 , -0.61161274,\n",
       "        -0.58592623,  0.58088243,  0.59542453, -0.17825419,  0.47136545,\n",
       "        -1.1430866 ,  0.20161133, -0.29301187,  0.93066067, -0.02900656,\n",
       "        -0.24250108, -0.07771175, -0.36249658,  0.68123996,  0.19102587,\n",
       "         0.46499598, -0.5071396 , -0.23366594,  0.7664177 ,  1.069432  ,\n",
       "        -0.39279974,  0.06671955, -0.95693475,  0.5053425 , -0.78090036,\n",
       "        -0.31272423, -0.7997354 , -0.06416363,  0.41935903,  0.32093292,\n",
       "         1.2354352 ,  0.5339974 ,  0.22928037,  0.6157138 , -1.4197559 ,\n",
       "        -1.4356141 ,  0.45588246,  0.08303592,  0.62402534, -0.2535629 ,\n",
       "        -0.8155496 , -0.21080722,  0.03638568, -0.1084704 ,  0.32878283,\n",
       "         0.52105206, -0.29838058,  0.9090746 ,  0.11429188,  0.23560558,\n",
       "         0.26566523,  0.4212155 , -0.31608418,  0.3791294 ,  0.26951984,\n",
       "         0.05418539, -1.3537607 ,  0.3409969 , -0.03360974, -0.03760638,\n",
       "         0.42789945,  0.1031982 , -0.28565174, -0.24858055,  0.0587263 ,\n",
       "        -0.96935254,  1.1981066 ,  0.84960634, -0.1828328 , -0.68231994,\n",
       "         0.4669629 , -0.04267217, -1.1546763 , -0.35778126, -0.6448967 ,\n",
       "        -0.759713  ,  0.79553604, -0.26339868,  0.8022187 , -0.13120003,\n",
       "         0.86188984, -0.0311445 , -0.19527736, -0.827948  , -0.51134735,\n",
       "        -0.6867614 ,  0.6904681 , -0.43580467, -0.6402362 ,  0.28219625,\n",
       "        -0.6150432 ,  0.06994816, -0.5221889 ,  0.33350372,  0.70779747,\n",
       "        -0.17348666,  0.9015038 ,  0.20985469, -0.51710916,  0.7515474 ,\n",
       "        -0.63487595,  0.43080518,  0.15507078, -0.3792701 , -0.3849478 ,\n",
       "         0.46915352, -0.24733362, -0.68241197,  0.09607108, -0.20559207,\n",
       "        -0.80511034, -0.20910363,  0.3552461 ,  0.08389762,  0.00983741,\n",
       "         0.07845214,  0.29743192, -0.18560067, -0.185227  ,  0.7829266 ,\n",
       "         0.5921185 , -0.24812458,  0.7636667 ,  1.3900204 , -0.7415403 ,\n",
       "        -0.02079298, -0.20510922, -0.24302484,  0.07097599, -0.02464929,\n",
       "         0.8304733 ,  0.49033022,  0.63111717, -0.44558695,  0.20232207,\n",
       "        -0.36682513, -0.55803496,  0.26350784, -0.6089578 ,  0.6726504 ,\n",
       "         0.11975706,  0.20292057, -0.35359505, -0.0911484 ,  0.5494461 ,\n",
       "        -0.83439255,  0.20153166,  0.08412333, -1.2271293 ,  0.25403193,\n",
       "        -0.17555326, -0.59374815,  0.03485644, -0.47155485, -0.08736552,\n",
       "        -0.19959237,  0.5167184 ,  0.2332962 ,  0.1651566 , -0.21954316,\n",
       "         0.39242104, -0.772531  ,  1.048601  ,  0.30614942, -0.3519175 ,\n",
       "        -0.759808  , -0.25277779, -0.3582006 ,  0.41955927, -0.9902687 ,\n",
       "        -0.26063487, -0.64868903,  0.30870563,  0.02406873, -0.09427734,\n",
       "         0.05477113,  0.8167114 , -0.8309319 , -1.0221585 , -0.41249898,\n",
       "         0.5353906 ,  0.56698185,  0.19803192, -0.90037084, -0.303716  ,\n",
       "        -1.2334014 ,  0.8686234 ,  0.4159508 ,  0.2787689 ,  0.19353749,\n",
       "        -0.9245298 , -0.63765675, -0.06733351, -0.6409466 ,  0.33165908,\n",
       "        -0.06221552,  0.42823842, -0.9515185 , -0.12180154, -0.05748795,\n",
       "        -0.3204773 ,  0.05579647,  0.6177898 ,  0.3042222 , -0.3928709 ,\n",
       "         0.03526717,  1.126176  , -0.74694026,  0.8206488 , -0.3989546 ,\n",
       "         0.06543183, -0.9634781 , -0.33992922, -0.5990663 , -0.20783629,\n",
       "         0.694093  ,  0.6805863 ,  0.39161786,  1.227157  ,  0.28261834,\n",
       "        -0.45172378, -0.8701267 , -0.10513092,  1.6264497 ,  0.25442246,\n",
       "        -0.55397946, -0.41205233,  0.6357464 ,  0.5655561 , -1.2766849 ,\n",
       "        -0.47193223, -1.0980704 ,  0.6576604 ,  0.01437891, -0.23664175,\n",
       "        -0.21182641, -0.22578412,  0.56799793, -0.5500578 , -0.08432186,\n",
       "         1.0967523 ,  0.45877072,  0.02012653, -0.21351175,  0.9648332 ,\n",
       "         0.41225854, -0.43937305, -0.32824484, -0.03629239, -0.3669809 ,\n",
       "         0.19617535, -0.5710791 ,  0.358745  ,  0.08759719,  1.1195208 ,\n",
       "         0.5597069 , -0.42819682, -1.0011855 , -0.11830468,  0.0415562 ,\n",
       "        -0.3193666 ,  1.0685567 ,  0.68168676,  0.8669092 , -0.15030076,\n",
       "        -0.95672536, -1.4503093 ,  0.15665664,  0.49414912, -0.35009277,\n",
       "        -1.1064746 ,  0.39340496,  0.12387797,  0.28349277, -0.18562679,\n",
       "         0.84200615, -0.2541025 ,  0.30038005,  0.5146766 , -0.44050086,\n",
       "        -0.37092733, -0.3813852 ,  0.06014993, -0.67790437, -0.3724523 ,\n",
       "         0.7714771 , -0.53334206,  0.46800086,  0.48611325,  0.9419313 ,\n",
       "        -0.0161315 ,  0.07389001, -0.44818622,  0.11945417, -0.39353877,\n",
       "        -0.36277923,  0.12319707, -0.9144325 , -0.01382959,  0.4190221 ,\n",
       "        -0.18952073,  1.1009941 , -0.5951841 ,  0.14892112, -0.10284493,\n",
       "         0.6807899 , -0.792831  ,  0.01720569,  0.047941  , -0.7832483 ,\n",
       "         1.7622955 ,  0.28215247, -0.72914886,  0.08408505, -1.0237434 ,\n",
       "         0.35312316,  1.3963078 , -0.27022028,  0.28108194,  0.2851145 ,\n",
       "        -0.10973524,  0.00481365, -0.26689586,  1.0616803 ,  0.33766884,\n",
       "        -0.11574426, -0.7877514 , -0.3863967 ,  0.27494657, -0.61467034,\n",
       "        -0.13802445,  0.8930212 , -0.12329941,  0.05533844, -1.0476223 ,\n",
       "         0.15572466,  0.17459019, -1.1838237 ,  0.30259314, -1.0203099 ,\n",
       "        -0.9246143 , -0.8838232 ,  0.19909917,  1.0660396 , -0.24230185,\n",
       "        -0.35533604, -0.6286387 ,  0.6544541 , -0.00990444, -0.5274576 ,\n",
       "        -0.64178467,  0.2968982 , -0.77426076,  0.65243894, -0.30002716,\n",
       "         1.1843537 , -0.5926267 ,  0.3584336 , -0.42982215,  0.434058  ,\n",
       "        -1.392853  , -0.56139785,  0.17243956, -0.17231879, -0.6473317 ,\n",
       "         0.698996  , -0.9210114 ,  0.1853417 , -0.9529711 , -0.57576054,\n",
       "         0.94096655,  0.8861288 ,  0.47659442, -0.2991211 ,  0.0532102 ,\n",
       "        -0.15568765,  0.11089692, -0.08598348, -0.7390753 , -0.41563758,\n",
       "         1.0007887 ,  0.37202275,  0.24419719,  0.00938772, -0.26059097,\n",
       "         0.20654163, -0.3152663 ,  0.49210727, -0.5044086 ,  0.14322563,\n",
       "         0.10996428, -0.99464566, -0.61697894,  0.21892165,  0.16495675,\n",
       "        -0.21881407,  0.14189045, -0.11705716, -0.38153055,  0.53135955,\n",
       "         0.5042606 ,  0.5852132 ,  0.49588287,  0.05221981,  0.39871648,\n",
       "        -0.9452494 ,  0.580223  ,  0.09196008,  0.9050827 ,  0.06512155,\n",
       "        -0.05072707,  0.42020357, -0.10639761,  0.7469555 ,  0.32820517,\n",
       "        -0.11973456, -0.10196415, -0.13610123,  0.2793698 ,  0.6176868 ,\n",
       "         0.5000646 ,  0.6705843 ,  0.01568387, -0.00380659,  0.31691563,\n",
       "         0.8496805 , -0.58884615,  0.10667081, -0.71476984, -0.34602815,\n",
       "        -0.9776733 ,  0.88602424, -0.48297375,  0.00815568, -0.34696767,\n",
       "        -0.03281811, -0.0770327 ,  1.062028  ,  0.9413445 ,  0.5501117 ,\n",
       "        -0.33049995, -0.40538457, -0.5375924 ,  0.2083649 , -0.07240112,\n",
       "        -0.677737  ,  0.70581466, -0.34888962,  0.49499437, -0.2845919 ,\n",
       "         0.4994754 , -0.7584066 , -0.383667  ,  0.5206956 ,  1.3691688 ,\n",
       "        -0.36466932, -0.1150656 , -0.37888223, -0.4570837 , -0.6516415 ,\n",
       "        -0.3088486 , -0.5327868 ,  0.8662437 ,  0.2641238 , -0.35230514,\n",
       "         0.14707547,  0.9267633 ,  0.6734594 , -0.26923415, -0.3891547 ,\n",
       "         0.680689  , -0.08535595,  0.21349417,  0.5819423 , -0.04625265,\n",
       "         0.10442115, -0.16492416,  0.18784638, -0.72402334, -0.5899591 ,\n",
       "        -0.17814013,  0.7038996 , -0.14601153, -1.4043063 ,  0.0409697 ,\n",
       "        -0.26422578, -0.5651912 ,  0.43113753, -0.10446513, -1.0145657 ,\n",
       "        -0.53063816, -0.23157023, -1.2949399 , -0.69144994, -0.4290183 ,\n",
       "        -0.13546784, -0.56660503, -0.13843665, -0.47012433, -0.27580565,\n",
       "        -0.10377331,  0.09942801,  0.7949185 ,  0.29369238, -0.29962954,\n",
       "         1.1018122 ,  0.15551215, -0.18744935,  0.34289768, -0.63159424,\n",
       "        -0.7397344 ,  0.45380247,  0.19845696,  0.04960244, -0.62673783,\n",
       "        -0.15949565, -0.62002456,  0.17803118, -0.12553795, -0.6525406 ,\n",
       "        -1.8285923 ,  0.4141642 , -0.0920494 ,  0.22063503,  0.32553717,\n",
       "         0.90466136, -1.3611603 , -0.21965677, -0.5040169 , -0.15536313,\n",
       "        -0.9762184 , -0.76028925, -0.24094152,  0.29321316, -0.02084015,\n",
       "        -0.44288856, -0.40589818,  0.1041225 ,  0.5782899 , -0.75375104,\n",
       "         0.6142582 , -0.33745334, -0.34722757, -0.14123935,  0.06943976,\n",
       "         0.6536698 , -1.4021996 ,  0.04894728,  0.04447484, -1.4714347 ,\n",
       "         0.13007163,  0.4662347 , -0.09551844, -0.68254894, -0.2573285 ,\n",
       "         0.04990665, -0.07030106,  0.37614796]], dtype=float32)"
      ]
     },
     "execution_count": 19,
     "metadata": {},
     "output_type": "execute_result"
    }
   ],
   "source": [
    "svec"
   ]
  },
  {
   "cell_type": "code",
   "execution_count": 20,
   "metadata": {},
   "outputs": [
    {
     "data": {
      "text/plain": [
       "(array([[268.44415, 325.8689 ]], dtype=float32), array([[3, 2]], dtype=int64))"
      ]
     },
     "execution_count": 20,
     "metadata": {},
     "output_type": "execute_result"
    }
   ],
   "source": [
    "index.search(svec,k=2) #k=2 means return 2 nearest vectors"
   ]
  },
  {
   "cell_type": "code",
   "execution_count": 21,
   "metadata": {},
   "outputs": [
    {
     "data": {
      "text/html": [
       "<div>\n",
       "<style scoped>\n",
       "    .dataframe tbody tr th:only-of-type {\n",
       "        vertical-align: middle;\n",
       "    }\n",
       "\n",
       "    .dataframe tbody tr th {\n",
       "        vertical-align: top;\n",
       "    }\n",
       "\n",
       "    .dataframe thead th {\n",
       "        text-align: right;\n",
       "    }\n",
       "</style>\n",
       "<table border=\"1\" class=\"dataframe\">\n",
       "  <thead>\n",
       "    <tr style=\"text-align: right;\">\n",
       "      <th></th>\n",
       "      <th>text</th>\n",
       "      <th>category</th>\n",
       "    </tr>\n",
       "  </thead>\n",
       "  <tbody>\n",
       "    <tr>\n",
       "      <th>0</th>\n",
       "      <td>Meditation and yoga can improve mental health</td>\n",
       "      <td>Health</td>\n",
       "    </tr>\n",
       "    <tr>\n",
       "      <th>1</th>\n",
       "      <td>Fruits, whole grains and vegetables helps cont...</td>\n",
       "      <td>Health</td>\n",
       "    </tr>\n",
       "    <tr>\n",
       "      <th>2</th>\n",
       "      <td>These are the latest fashion trends for this week</td>\n",
       "      <td>Fashion</td>\n",
       "    </tr>\n",
       "    <tr>\n",
       "      <th>3</th>\n",
       "      <td>Vibrant color jeans for male are becoming a trend</td>\n",
       "      <td>Fashion</td>\n",
       "    </tr>\n",
       "    <tr>\n",
       "      <th>4</th>\n",
       "      <td>The concert starts at 7 PM tonight</td>\n",
       "      <td>Event</td>\n",
       "    </tr>\n",
       "    <tr>\n",
       "      <th>5</th>\n",
       "      <td>Navaratri dandiya program at Expo center in Mu...</td>\n",
       "      <td>Event</td>\n",
       "    </tr>\n",
       "    <tr>\n",
       "      <th>6</th>\n",
       "      <td>Exciting vacation destinations for your next trip</td>\n",
       "      <td>Travel</td>\n",
       "    </tr>\n",
       "    <tr>\n",
       "      <th>7</th>\n",
       "      <td>Maldives and Srilanka are gaining popularity i...</td>\n",
       "      <td>Travel</td>\n",
       "    </tr>\n",
       "  </tbody>\n",
       "</table>\n",
       "</div>"
      ],
      "text/plain": [
       "                                                text category\n",
       "0      Meditation and yoga can improve mental health   Health\n",
       "1  Fruits, whole grains and vegetables helps cont...   Health\n",
       "2  These are the latest fashion trends for this week  Fashion\n",
       "3  Vibrant color jeans for male are becoming a trend  Fashion\n",
       "4                 The concert starts at 7 PM tonight    Event\n",
       "5  Navaratri dandiya program at Expo center in Mu...    Event\n",
       "6  Exciting vacation destinations for your next trip   Travel\n",
       "7  Maldives and Srilanka are gaining popularity i...   Travel"
      ]
     },
     "execution_count": 21,
     "metadata": {},
     "output_type": "execute_result"
    }
   ],
   "source": [
    "df"
   ]
  },
  {
   "cell_type": "code",
   "execution_count": 22,
   "metadata": {},
   "outputs": [],
   "source": [
    "distances,indexes=index.search(svec,k=2)"
   ]
  },
  {
   "cell_type": "code",
   "execution_count": 23,
   "metadata": {},
   "outputs": [
    {
     "data": {
      "text/plain": [
       "array([[268.44415, 325.8689 ]], dtype=float32)"
      ]
     },
     "execution_count": 23,
     "metadata": {},
     "output_type": "execute_result"
    }
   ],
   "source": [
    "distances"
   ]
  },
  {
   "cell_type": "code",
   "execution_count": 24,
   "metadata": {},
   "outputs": [
    {
     "data": {
      "text/plain": [
       "array([[3, 2]], dtype=int64)"
      ]
     },
     "execution_count": 24,
     "metadata": {},
     "output_type": "execute_result"
    }
   ],
   "source": [
    "indexes"
   ]
  },
  {
   "cell_type": "code",
   "execution_count": 25,
   "metadata": {},
   "outputs": [
    {
     "data": {
      "text/html": [
       "<div>\n",
       "<style scoped>\n",
       "    .dataframe tbody tr th:only-of-type {\n",
       "        vertical-align: middle;\n",
       "    }\n",
       "\n",
       "    .dataframe tbody tr th {\n",
       "        vertical-align: top;\n",
       "    }\n",
       "\n",
       "    .dataframe thead th {\n",
       "        text-align: right;\n",
       "    }\n",
       "</style>\n",
       "<table border=\"1\" class=\"dataframe\">\n",
       "  <thead>\n",
       "    <tr style=\"text-align: right;\">\n",
       "      <th></th>\n",
       "      <th>text</th>\n",
       "      <th>category</th>\n",
       "    </tr>\n",
       "  </thead>\n",
       "  <tbody>\n",
       "    <tr>\n",
       "      <th>0</th>\n",
       "      <td>Meditation and yoga can improve mental health</td>\n",
       "      <td>Health</td>\n",
       "    </tr>\n",
       "    <tr>\n",
       "      <th>5</th>\n",
       "      <td>Navaratri dandiya program at Expo center in Mu...</td>\n",
       "      <td>Event</td>\n",
       "    </tr>\n",
       "  </tbody>\n",
       "</table>\n",
       "</div>"
      ],
      "text/plain": [
       "                                                text category\n",
       "0      Meditation and yoga can improve mental health   Health\n",
       "5  Navaratri dandiya program at Expo center in Mu...    Event"
      ]
     },
     "execution_count": 25,
     "metadata": {},
     "output_type": "execute_result"
    }
   ],
   "source": [
    "df.loc[[0,5]]"
   ]
  },
  {
   "cell_type": "code",
   "execution_count": 26,
   "metadata": {},
   "outputs": [
    {
     "data": {
      "text/html": [
       "<div>\n",
       "<style scoped>\n",
       "    .dataframe tbody tr th:only-of-type {\n",
       "        vertical-align: middle;\n",
       "    }\n",
       "\n",
       "    .dataframe tbody tr th {\n",
       "        vertical-align: top;\n",
       "    }\n",
       "\n",
       "    .dataframe thead th {\n",
       "        text-align: right;\n",
       "    }\n",
       "</style>\n",
       "<table border=\"1\" class=\"dataframe\">\n",
       "  <thead>\n",
       "    <tr style=\"text-align: right;\">\n",
       "      <th></th>\n",
       "      <th>text</th>\n",
       "      <th>category</th>\n",
       "    </tr>\n",
       "  </thead>\n",
       "  <tbody>\n",
       "    <tr>\n",
       "      <th>3</th>\n",
       "      <td>Vibrant color jeans for male are becoming a trend</td>\n",
       "      <td>Fashion</td>\n",
       "    </tr>\n",
       "    <tr>\n",
       "      <th>2</th>\n",
       "      <td>These are the latest fashion trends for this week</td>\n",
       "      <td>Fashion</td>\n",
       "    </tr>\n",
       "  </tbody>\n",
       "</table>\n",
       "</div>"
      ],
      "text/plain": [
       "                                                text category\n",
       "3  Vibrant color jeans for male are becoming a trend  Fashion\n",
       "2  These are the latest fashion trends for this week  Fashion"
      ]
     },
     "execution_count": 26,
     "metadata": {},
     "output_type": "execute_result"
    }
   ],
   "source": [
    "df.loc[[3,2]]"
   ]
  },
  {
   "cell_type": "code",
   "execution_count": 27,
   "metadata": {},
   "outputs": [
    {
     "data": {
      "text/plain": [
       "array([-4.60781515e-01,  2.52003461e-01,  1.42859876e-01, -5.36996484e-01,\n",
       "       -9.03198868e-02, -1.54597357e-01, -2.59388864e-01,  7.76224136e-01,\n",
       "        5.41064262e-01, -1.11982465e+00, -7.81175680e-03,  8.09857845e-01,\n",
       "        2.62865692e-01, -2.66493052e-01, -8.74067843e-02, -2.09901035e-02,\n",
       "        2.41274670e-01, -2.88406014e-01,  1.80241652e-03,  3.00842039e-02,\n",
       "       -1.37662411e-01, -6.02822602e-01, -5.79477429e-01, -2.53988445e-01,\n",
       "        6.14683211e-01, -6.37873054e-01, -3.45617473e-01,  5.72284341e-01,\n",
       "        6.89331412e-01, -5.04543304e-01, -4.06040549e-01,  1.18598557e+00,\n",
       "        3.20455879e-01, -3.60711932e-01, -1.79457918e-01,  1.32051253e+00,\n",
       "        1.27918139e-01, -8.32339048e-01, -7.61729628e-02,  5.02964199e-01,\n",
       "        6.06207371e-01, -7.14872241e-01,  1.15601175e-01,  1.11764222e-02,\n",
       "       -1.00184500e+00, -3.38751316e-01, -7.50593781e-01,  2.93435365e-01,\n",
       "        1.69595480e-01,  3.06878276e-02,  1.08263338e+00, -2.16578305e-01,\n",
       "       -6.73876777e-02, -2.35390291e-02, -6.43674612e-01,  1.87970066e+00,\n",
       "        8.59684944e-02, -3.77231717e-01,  7.55012929e-01,  5.64733259e-02,\n",
       "       -1.20771408e+00,  3.49890068e-02, -2.20764711e-01, -8.64533335e-02,\n",
       "       -7.15717554e-01,  5.31473383e-02,  2.42946044e-01,  6.74095079e-02,\n",
       "       -1.03318632e-01, -7.91804194e-02, -1.01503432e-01, -1.36484480e+00,\n",
       "       -7.41001546e-01, -2.28205413e-01, -2.50540733e-01, -1.00726891e+00,\n",
       "       -2.87812591e-01, -3.54071170e-01, -2.66125221e-02,  4.48531330e-01,\n",
       "       -5.34983099e-01,  1.81812614e-01, -1.38434514e-01,  4.00904506e-01,\n",
       "       -3.81519318e-01,  6.39338851e-01, -7.35933473e-03, -6.33353770e-01,\n",
       "       -6.85258031e-01,  5.14273405e-01,  4.42676127e-01, -5.20985126e-01,\n",
       "        1.48309731e+00,  1.13982610e-01,  4.89750177e-01, -1.34907603e-01,\n",
       "       -3.29074971e-02, -3.72604504e-02, -1.39464468e-01,  3.61643553e-01,\n",
       "        4.56085317e-02,  6.58843279e-01,  1.11254312e-01,  8.85549366e-01,\n",
       "       -4.36147302e-02,  4.08821583e-01,  5.51338255e-01, -1.36610031e+00,\n",
       "        6.86475992e-01,  4.26385552e-01,  6.91547275e-01,  4.84697908e-01,\n",
       "        6.30418003e-01,  5.02751350e-01, -5.15059054e-01, -5.47115505e-01,\n",
       "       -9.84278262e-01,  1.11443810e-02, -9.10850465e-01, -4.40564215e-01,\n",
       "       -3.18855226e-01, -3.42665911e-02,  7.91622281e-01,  4.93733555e-01,\n",
       "        2.93358564e-01, -3.67879778e-01, -4.12360430e-01,  5.03929913e-01,\n",
       "        5.36489189e-01,  4.63798717e-02,  4.43380058e-01,  9.54995602e-02,\n",
       "        2.36475766e-01, -3.33432853e-01,  1.60599295e-02,  9.34792697e-01,\n",
       "        1.56150788e-01, -2.52545297e-01, -1.93081707e-01, -2.97007978e-01,\n",
       "       -2.85152316e-01, -2.76384037e-02,  1.67717087e+00, -1.26482934e-01,\n",
       "        5.29625952e-01, -1.07119024e-01,  1.17674530e+00,  4.70281869e-01,\n",
       "        5.06041944e-01, -3.98707509e-01,  8.88536990e-01, -1.11782968e+00,\n",
       "       -3.02807420e-01, -9.10849333e-01,  6.03422999e-01,  6.45716727e-01,\n",
       "       -1.05358493e+00,  3.95084858e-01, -7.31262565e-01,  4.01244402e-01,\n",
       "       -3.14785480e-01,  6.27072573e-01, -3.54305029e-01, -6.84265792e-01,\n",
       "       -2.14112312e-01, -3.95638317e-01,  1.30930829e+00,  6.99855804e-01,\n",
       "        5.29303432e-01, -1.34223718e-02,  5.87047935e-01, -4.64390814e-02,\n",
       "        1.17151356e+00,  3.13567489e-01,  2.14328870e-01, -6.40340388e-01,\n",
       "        6.67311251e-01,  8.35956335e-01, -2.16612279e-01, -1.86435848e-01,\n",
       "        1.00126602e-01,  1.53609574e-01,  4.06588793e-01, -2.97302485e-01,\n",
       "       -1.58355653e-01, -7.53953874e-01,  8.19729865e-01, -2.47844711e-01,\n",
       "        8.28133345e-01, -1.63387537e-01, -7.28436559e-02,  4.23104256e-01,\n",
       "       -4.88003612e-01, -9.50957298e-01, -7.56757259e-02,  8.86301816e-01,\n",
       "       -6.37660086e-01, -5.06656885e-01, -4.81792331e-01, -8.00636888e-01,\n",
       "       -1.78685874e-01, -2.36805230e-01, -2.88540065e-01, -2.23254308e-01,\n",
       "       -3.73016179e-01,  1.08365908e-01,  4.50495034e-01, -3.90434891e-01,\n",
       "       -1.37535167e+00,  7.33251721e-02, -5.55408537e-01,  7.72851586e-01,\n",
       "        4.60216194e-01, -4.04126823e-01, -1.97255865e-01,  4.17547017e-01,\n",
       "        5.70697784e-01,  8.88134599e-01, -6.26344442e-01, -4.34535146e-01,\n",
       "       -3.19562405e-01,  9.91975844e-01, -1.12359323e-01,  1.38335252e+00,\n",
       "        4.22059268e-01, -6.09257147e-02,  5.97168326e-01, -6.65912498e-03,\n",
       "       -2.87174195e-01,  2.43156165e-01,  4.79546785e-01, -2.35800236e-01,\n",
       "       -5.88283777e-01, -3.10235888e-01, -2.17460424e-01, -2.50601858e-01,\n",
       "       -9.15342212e-01,  2.07791358e-01,  1.06186533e+00,  1.91042781e-01,\n",
       "       -5.63198268e-01, -3.50605734e-02, -7.91801393e-01, -9.67772081e-02,\n",
       "       -3.05916071e-01,  1.69214793e-02,  5.67247868e-01, -7.63149679e-01,\n",
       "       -5.96460462e-01,  8.88967216e-02, -1.22712362e+00,  8.54837149e-02,\n",
       "       -2.21857548e-01, -2.07113862e-01,  2.59514630e-01, -5.19288182e-01,\n",
       "       -8.42824280e-01,  1.34102955e-01,  6.01316512e-01, -8.97860527e-03,\n",
       "       -2.08651721e-02, -5.21135151e-01, -5.29913977e-03,  4.58897829e-01,\n",
       "       -1.15653026e+00,  4.22636151e-01, -1.16369307e+00, -4.33810912e-02,\n",
       "       -2.53305398e-02,  1.83678195e-01, -3.73924553e-01, -6.50877833e-01,\n",
       "       -6.63490295e-02,  5.13596594e-01,  5.95690250e-01, -8.44529569e-01,\n",
       "        6.30978942e-01,  1.18332095e-01, -1.01093620e-01, -6.30611777e-01,\n",
       "        1.63140416e-01,  3.14148545e-01, -1.31143045e+00,  1.04715025e+00,\n",
       "       -1.39187530e-01, -2.24138319e-01,  3.46662939e-01, -4.18510884e-01,\n",
       "        7.88822323e-02, -4.56098020e-01, -2.49131605e-01,  8.19315434e-01,\n",
       "       -5.28706014e-01, -1.17325890e+00,  1.24623191e+00, -9.51110274e-02,\n",
       "        4.73866314e-01, -1.63872313e+00,  2.83093393e-01, -7.16486692e-01,\n",
       "        2.31394351e-01,  2.08608642e-01,  3.93086106e-01,  4.02879894e-01,\n",
       "       -1.08099747e+00,  2.81648278e-01,  4.05189335e-01, -2.78148741e-01,\n",
       "        6.32850170e-01, -2.81527132e-01, -8.56456041e-01,  5.41621208e-01,\n",
       "       -6.08299315e-01,  2.70498663e-01,  1.36629537e-01, -6.96380794e-01,\n",
       "       -1.21911049e+00,  7.49665976e-01, -6.49765059e-02, -7.93764710e-01,\n",
       "       -1.25645638e-01,  9.74553645e-01,  2.14060664e-01,  4.76775050e-01,\n",
       "        1.00152516e+00, -4.37222719e-01, -1.49061173e-01,  5.44620633e-01,\n",
       "        2.12931365e-01, -8.62793267e-01,  9.55898941e-01, -2.21960954e-02,\n",
       "       -4.67998981e-01,  1.00030422e+00,  6.19472563e-01,  5.61980367e-01,\n",
       "       -1.28909183e+00, -5.21223068e-01, -2.54291385e-01,  1.76518679e-01,\n",
       "        1.48745096e+00, -1.48272860e+00,  3.05675477e-01, -1.32366112e-02,\n",
       "       -9.74327177e-02, -1.59823313e-01,  4.32498336e-01,  1.11696392e-01,\n",
       "        4.05689329e-02,  1.10010803e+00,  8.94253552e-01, -1.13635868e-01,\n",
       "        5.43911457e-01,  7.31126294e-02, -2.48773456e-01, -1.04605287e-01,\n",
       "       -3.26787122e-02,  6.08223081e-01,  2.77237952e-01,  1.15501687e-01,\n",
       "       -3.22845995e-01,  3.08582693e-01, -3.55916351e-01, -3.99096876e-01,\n",
       "        8.41467619e-01, -1.60576448e-01,  4.82744277e-01, -1.70998824e+00,\n",
       "        2.58460969e-01,  4.88586068e-01, -1.51288629e-01,  1.94071189e-01,\n",
       "        3.37787241e-01,  4.89482224e-01,  2.33072400e-01,  8.93870592e-02,\n",
       "        7.15353340e-02, -5.64977765e-01, -1.39390260e-01, -1.02044486e-01,\n",
       "        7.01490223e-01, -8.23117197e-02, -1.17269441e-01, -4.32351120e-02,\n",
       "       -1.50925040e+00,  3.81377578e-01,  3.89814287e-01,  5.45717061e-01,\n",
       "        1.80898994e-01, -4.55095440e-01, -1.22439004e-01,  2.16141269e-01,\n",
       "        6.77997053e-01, -6.75240040e-01, -6.24748230e-01, -1.96174644e-02,\n",
       "       -7.26067066e-01,  7.46439844e-02,  5.13228774e-01, -1.83477953e-01,\n",
       "        4.08714592e-01,  6.65064275e-01,  1.11417484e+00, -6.95814610e-01,\n",
       "        6.97929621e-01,  2.72969872e-01,  9.28667009e-01, -5.15148103e-01,\n",
       "       -9.22693193e-01,  3.03471804e-01,  8.42094541e-01, -6.52759373e-02,\n",
       "        7.09222794e-01,  9.57503617e-01, -1.63602561e-01,  2.17936978e-01,\n",
       "        8.89344335e-01, -7.93080151e-01,  6.87997818e-01, -7.77722448e-02,\n",
       "       -5.47319591e-01,  1.00472763e-01,  2.66773343e-01, -1.52519699e-02,\n",
       "        2.89780140e-01, -4.46897179e-01,  2.58330107e-02, -5.31154454e-01,\n",
       "       -1.22926779e-01, -5.82954027e-02,  2.06569657e-02,  2.09620118e-01,\n",
       "       -5.54024816e-01, -6.12762451e-01,  6.14343509e-02, -4.91531134e-01,\n",
       "       -2.01182976e-01, -8.55744123e-01,  9.93974209e-01, -9.32776108e-02,\n",
       "        5.71349025e-01, -2.80415148e-01,  6.39843643e-01,  7.17770755e-02,\n",
       "       -6.46151006e-01,  4.96584117e-01, -1.15419313e-01,  3.31378996e-01,\n",
       "        3.20302844e-01, -5.71804762e-01,  4.08620119e-01, -6.75266743e-01,\n",
       "       -8.49833786e-02,  2.51225680e-01,  2.03253850e-01, -5.16407192e-01,\n",
       "       -9.24148500e-01,  5.44855237e-01,  1.52796388e-01, -6.21669233e-01,\n",
       "       -8.86258602e-01, -3.12723592e-03,  5.83347440e-01, -3.63434076e-01,\n",
       "       -1.97704881e-01, -6.72024786e-01, -6.63698494e-01, -5.36513507e-01,\n",
       "        1.06125498e+00,  1.25549525e-01,  1.01446497e+00, -3.73880118e-01,\n",
       "        1.81006595e-01,  1.38782620e+00,  6.37422800e-01, -8.33627820e-01,\n",
       "       -1.71591449e+00,  8.43672693e-01,  5.33679247e-01,  5.76788187e-02,\n",
       "       -1.36318946e+00, -3.96630436e-01, -6.94930613e-01, -9.46327984e-01,\n",
       "        4.61431950e-01,  3.04381162e-01, -2.67438829e-01, -9.10637736e-01,\n",
       "       -2.52647579e-01, -8.41329575e-01, -8.89225125e-01, -4.68538761e-01,\n",
       "       -2.34229356e-01, -1.49290037e+00, -1.83571309e-01, -9.71565664e-01,\n",
       "       -8.09103310e-01, -1.23757255e+00, -5.98754361e-02, -5.39217740e-02,\n",
       "        3.80838871e-01,  3.11687917e-01,  8.97198200e-01, -5.78301787e-01,\n",
       "        1.38654798e-01,  3.80405448e-02, -5.54292798e-01, -5.30810893e-01,\n",
       "       -1.79234147e-01, -5.55697493e-02, -9.29355204e-01,  3.73802274e-01,\n",
       "        6.23020649e-01, -7.43219137e-01, -2.48163506e-01,  9.83220875e-01,\n",
       "       -8.24298263e-01,  1.00220823e+00, -3.84122849e-01, -1.16000712e+00,\n",
       "       -9.75876689e-01, -1.90370157e-02,  6.88159466e-01,  2.36314107e-02,\n",
       "       -6.28570199e-01,  5.48328996e-01,  5.69877207e-01, -9.07658756e-01,\n",
       "       -7.02028632e-01, -1.04853702e+00, -4.90929216e-01, -5.56246161e-01,\n",
       "       -1.20922945e-01,  3.65532339e-01,  1.55251086e-01,  1.35408247e+00,\n",
       "       -6.41771033e-02, -2.17470139e-01,  7.37846434e-01,  3.44885349e-01,\n",
       "        5.38954020e-01,  1.23831439e+00,  1.07260692e+00,  1.30883336e-01,\n",
       "       -7.69840062e-01, -2.96355993e-01,  2.65360296e-01,  4.79544044e-01,\n",
       "       -5.91742396e-01, -1.42925069e-01, -1.30146801e+00,  6.81441203e-02,\n",
       "       -3.18490922e-01,  6.35088623e-01, -1.01121616e+00,  3.54220480e-01,\n",
       "       -7.81101346e-01,  1.26918554e-01, -2.42971092e-01,  1.20845214e-01,\n",
       "        1.32472837e+00,  1.30208290e+00, -4.40715939e-01, -7.78693914e-01,\n",
       "       -1.17416978e+00, -1.58203140e-01, -7.30198696e-02, -5.60020924e-01,\n",
       "       -1.25229046e-01, -3.69197667e-01,  1.17842686e+00,  5.32293975e-01,\n",
       "        7.89221287e-01,  2.77480304e-01, -5.25482059e-01,  4.84766155e-01,\n",
       "        5.77696025e-01, -6.62972450e-01, -4.83492076e-01, -8.40662271e-02,\n",
       "       -1.38069129e+00,  4.24324036e-01,  1.11295179e-01, -4.23536450e-01,\n",
       "       -1.67696118e-01, -7.25465938e-02,  7.62984395e-01, -1.79516876e+00,\n",
       "       -2.06999138e-01, -6.66655540e-01, -5.24000049e-01, -5.38567662e-01,\n",
       "       -6.02004290e-01, -1.16145778e+00, -1.03760183e+00, -2.16888160e-01,\n",
       "        3.09551090e-01,  8.28389585e-01,  1.62049443e-01,  1.40344486e-01,\n",
       "        3.33662666e-02, -7.74679363e-01, -3.35079521e-01,  8.93509209e-01,\n",
       "       -1.76930085e-01,  1.09296165e-01, -8.65487635e-01, -6.47373855e-01,\n",
       "       -2.29164101e-02,  4.92572039e-02, -2.30861604e-01, -2.39103630e-01,\n",
       "       -3.70857477e-01,  5.68665981e-01, -3.78159553e-01, -8.40774417e-01,\n",
       "       -4.14509505e-01, -1.07070014e-01, -6.64006829e-01, -2.62846380e-01,\n",
       "        1.25517631e+00,  7.31311619e-01, -8.95106077e-01,  6.02577329e-02,\n",
       "        4.34484065e-01, -1.02302432e+00,  3.83309275e-01,  6.73305452e-01,\n",
       "        3.82836968e-01, -9.63220894e-02,  3.98737788e-01,  1.17291762e-02,\n",
       "       -8.45196962e-01,  5.87010384e-01,  2.40833342e-01,  4.11387533e-01,\n",
       "       -3.22669268e-01,  8.77668083e-01, -7.09478438e-01,  6.59062982e-01,\n",
       "       -7.70201564e-01,  6.98752105e-01, -5.21055102e-01, -3.16102117e-01,\n",
       "       -2.84040213e-01, -2.12036707e-02,  7.84617811e-02,  1.31393820e-01,\n",
       "        9.23553288e-01,  6.79783762e-01,  2.30312794e-01,  3.81567404e-02,\n",
       "        2.79791832e-01, -3.24189126e-01, -7.80732512e-01, -1.06752193e+00,\n",
       "       -6.80438578e-01,  3.12752753e-01,  4.64016795e-01,  2.37932429e-02,\n",
       "        7.96053112e-01,  4.57893193e-01,  6.71241507e-02, -2.70661801e-01,\n",
       "       -3.28662634e-01, -2.26416178e-02, -9.44064796e-01,  9.74571779e-02,\n",
       "        4.40682143e-01,  3.51899743e-01,  7.50035703e-01, -6.55664444e-01,\n",
       "        2.58125871e-01, -9.75593746e-01, -9.96215343e-02,  5.71276546e-01,\n",
       "       -5.45266032e-01,  1.94991016e+00, -9.06077027e-01,  3.51953581e-02,\n",
       "        3.80954027e-01, -1.08876258e-01,  5.26133657e-01,  3.22927266e-01,\n",
       "       -3.41478698e-02,  6.11441970e-01,  1.67982623e-01, -1.15594544e-01,\n",
       "        1.84738785e-01,  8.33884597e-01, -3.34817648e-01,  9.40841138e-01,\n",
       "       -6.35419905e-01,  1.12155914e-01, -9.63735104e-01,  1.11313857e-01,\n",
       "       -8.13578844e-01, -9.27342847e-02,  7.05423713e-01,  7.96651900e-01,\n",
       "        2.40501493e-01,  7.68750191e-01, -1.02723598e+00,  1.36908531e-01,\n",
       "       -1.23451233e-01,  7.45794356e-01, -1.03615844e+00, -6.60132766e-01,\n",
       "        6.36141822e-02,  8.21851790e-02,  1.75319612e-01,  3.40499997e-01,\n",
       "        1.25367269e-01,  2.17838004e-01, -2.34669387e-01, -3.65998626e-01,\n",
       "        4.18183804e-01, -9.07921672e-01,  9.04889882e-01, -5.19563019e-01,\n",
       "       -5.75779676e-01, -3.13321531e-01, -2.79242635e-01,  6.92923665e-01,\n",
       "       -9.43680704e-02,  3.65688235e-01,  8.58448684e-01,  9.67003524e-01,\n",
       "        8.52009207e-02,  1.12887830e-01,  3.37888360e-01, -1.35492593e-01,\n",
       "        5.22831798e-01,  6.77927256e-01, -2.39806652e-01,  3.07826638e-01,\n",
       "        6.47437692e-01, -9.13368344e-01, -5.93227267e-01,  9.55628395e-01,\n",
       "       -1.24362290e-01, -9.45336759e-01, -6.20447636e-01, -1.38622987e+00,\n",
       "        3.62410545e-01,  2.88080096e-01, -4.17337239e-01,  5.99502742e-01,\n",
       "        1.56173244e-01, -4.01538253e-01,  1.28377354e+00, -1.33484244e+00,\n",
       "       -1.87703937e-01,  2.37170994e-01,  1.03019381e+00,  8.45049441e-01,\n",
       "       -3.77616882e-01,  3.10991645e-01, -3.55839223e-01, -7.36279845e-01,\n",
       "       -3.31991583e-01, -9.81026590e-01, -1.65746152e-01, -4.11628038e-02,\n",
       "        7.73133039e-02,  9.21455324e-01,  2.51594484e-01, -5.64523757e-01],\n",
       "      dtype=float32)"
      ]
     },
     "execution_count": 27,
     "metadata": {},
     "output_type": "execute_result"
    }
   ],
   "source": [
    "search_query2=\"Eating apple make the day better\"\n",
    "vec2=encorder.encode(search_query2)\n",
    "vec2"
   ]
  },
  {
   "cell_type": "code",
   "execution_count": 28,
   "metadata": {},
   "outputs": [
    {
     "data": {
      "text/plain": [
       "(768,)"
      ]
     },
     "execution_count": 28,
     "metadata": {},
     "output_type": "execute_result"
    }
   ],
   "source": [
    "vec2.shape"
   ]
  },
  {
   "cell_type": "code",
   "execution_count": 29,
   "metadata": {},
   "outputs": [
    {
     "data": {
      "text/plain": [
       "(1, 768)"
      ]
     },
     "execution_count": 29,
     "metadata": {},
     "output_type": "execute_result"
    }
   ],
   "source": [
    "svec2=np.array(vec2).reshape(1,-1)\n",
    "svec2.shape"
   ]
  },
  {
   "cell_type": "code",
   "execution_count": 30,
   "metadata": {},
   "outputs": [
    {
     "data": {
      "text/plain": [
       "(array([[198.22383, 270.45926]], dtype=float32), array([[1, 0]], dtype=int64))"
      ]
     },
     "execution_count": 30,
     "metadata": {},
     "output_type": "execute_result"
    }
   ],
   "source": [
    "index.search(svec2,k=2)"
   ]
  },
  {
   "cell_type": "code",
   "execution_count": 31,
   "metadata": {},
   "outputs": [
    {
     "data": {
      "text/html": [
       "<div>\n",
       "<style scoped>\n",
       "    .dataframe tbody tr th:only-of-type {\n",
       "        vertical-align: middle;\n",
       "    }\n",
       "\n",
       "    .dataframe tbody tr th {\n",
       "        vertical-align: top;\n",
       "    }\n",
       "\n",
       "    .dataframe thead th {\n",
       "        text-align: right;\n",
       "    }\n",
       "</style>\n",
       "<table border=\"1\" class=\"dataframe\">\n",
       "  <thead>\n",
       "    <tr style=\"text-align: right;\">\n",
       "      <th></th>\n",
       "      <th>text</th>\n",
       "      <th>category</th>\n",
       "    </tr>\n",
       "  </thead>\n",
       "  <tbody>\n",
       "    <tr>\n",
       "      <th>1</th>\n",
       "      <td>Fruits, whole grains and vegetables helps cont...</td>\n",
       "      <td>Health</td>\n",
       "    </tr>\n",
       "    <tr>\n",
       "      <th>0</th>\n",
       "      <td>Meditation and yoga can improve mental health</td>\n",
       "      <td>Health</td>\n",
       "    </tr>\n",
       "  </tbody>\n",
       "</table>\n",
       "</div>"
      ],
      "text/plain": [
       "                                                text category\n",
       "1  Fruits, whole grains and vegetables helps cont...   Health\n",
       "0      Meditation and yoga can improve mental health   Health"
      ]
     },
     "execution_count": 31,
     "metadata": {},
     "output_type": "execute_result"
    }
   ],
   "source": [
    "df.loc[[1,0]]"
   ]
  },
  {
   "cell_type": "code",
   "execution_count": null,
   "metadata": {},
   "outputs": [],
   "source": []
  }
 ],
 "metadata": {
  "kernelspec": {
   "display_name": "Python 3",
   "language": "python",
   "name": "python3"
  },
  "language_info": {
   "codemirror_mode": {
    "name": "ipython",
    "version": 3
   },
   "file_extension": ".py",
   "mimetype": "text/x-python",
   "name": "python",
   "nbconvert_exporter": "python",
   "pygments_lexer": "ipython3",
   "version": "3.12.4"
  }
 },
 "nbformat": 4,
 "nbformat_minor": 2
}
